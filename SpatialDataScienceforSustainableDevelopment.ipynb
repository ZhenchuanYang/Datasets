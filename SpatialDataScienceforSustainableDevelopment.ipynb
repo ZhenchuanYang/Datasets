# Coding Tutorials
## [Spatial Data Science for Sustainable Development](https://sustainability-gis.readthedocs.io/en/latest/course-info/introduction.html)
- Week 1: Introduction
- Week 2: Network analytics and spatial accessibility modelling
- Week 3: Mobility analytics (3D trajectory plot)
- Week 4: Spatial econometrics
- Week 5: Agent-based simulation with spatial data
