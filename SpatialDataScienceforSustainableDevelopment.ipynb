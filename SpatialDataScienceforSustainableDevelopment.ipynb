{
 "cells": [
  {
   "cell_type": "markdown",
   "metadata": {},
   "source": [
    "# [Spatial Data Science for Sustainable Development](https://sustainability-gis.readthedocs.io/en/latest/course-info/introduction.html)\n",
    "- Week 1: Introduction\n",
    "- Week 2: Network analytics and spatial accessibility modelling\n",
    "- Week 3: Mobility analytics (3D trajectory plot)\n",
    "- Week 4: Spatial econometrics\n",
    "- Week 5: Agent-based simulation with spatial data"
   ]
  },
  {
   "cell_type": "code",
   "execution_count": null,
   "metadata": {},
   "outputs": [],
   "source": []
  }
 ],
 "metadata": {
  "language_info": {
   "name": "python"
  }
 },
 "nbformat": 4,
 "nbformat_minor": 2
}
